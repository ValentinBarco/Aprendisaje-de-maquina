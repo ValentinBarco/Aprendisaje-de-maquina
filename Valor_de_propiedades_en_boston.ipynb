{
  "nbformat": 4,
  "nbformat_minor": 0,
  "metadata": {
    "kernelspec": {
      "display_name": "Python 3",
      "language": "python",
      "name": "python3"
    },
    "language_info": {
      "codemirror_mode": {
        "name": "ipython",
        "version": 3
      },
      "file_extension": ".py",
      "mimetype": "text/x-python",
      "name": "python",
      "nbconvert_exporter": "python",
      "pygments_lexer": "ipython3",
      "version": "3.7.4"
    },
    "colab": {
      "name": "Valor de propiedades en boston",
      "provenance": [],
      "include_colab_link": true
    }
  },
  "cells": [
    {
      "cell_type": "markdown",
      "metadata": {
        "id": "view-in-github",
        "colab_type": "text"
      },
      "source": [
        "<a href=\"https://colab.research.google.com/github/ValentinBarco/Aprendizaje-de-maquina/blob/master/Valor_de_propiedades_en_boston.ipynb\" target=\"_parent\"><img src=\"https://colab.research.google.com/assets/colab-badge.svg\" alt=\"Open In Colab\"/></a>"
      ]
    },
    {
      "cell_type": "markdown",
      "metadata": {
        "id": "G0zKfgQyjjRQ"
      },
      "source": [
        "#Precio de las casas en boston  "
      ]
    },
    {
      "cell_type": "code",
      "metadata": {
        "colab": {
          "base_uri": "https://localhost:8080/",
          "height": 402
        },
        "id": "XPcEVv7vjjRS",
        "outputId": "42c2e86b-f51a-437f-d7fb-03471195c6c3"
      },
      "source": [
        "import pandas as pd\n",
        "Datos = pd.read_csv(\"https://raw.githubusercontent.com/emmanueliarussi/DataScienceCapstone/master/3_MidtermProjects/ProjectBHP/data/housing_data.csv\")\n",
        "Datos"
      ],
      "execution_count": 1,
      "outputs": [
        {
          "output_type": "execute_result",
          "data": {
            "text/html": [
              "<div>\n",
              "<style scoped>\n",
              "    .dataframe tbody tr th:only-of-type {\n",
              "        vertical-align: middle;\n",
              "    }\n",
              "\n",
              "    .dataframe tbody tr th {\n",
              "        vertical-align: top;\n",
              "    }\n",
              "\n",
              "    .dataframe thead th {\n",
              "        text-align: right;\n",
              "    }\n",
              "</style>\n",
              "<table border=\"1\" class=\"dataframe\">\n",
              "  <thead>\n",
              "    <tr style=\"text-align: right;\">\n",
              "      <th></th>\n",
              "      <th>CRIM</th>\n",
              "      <th>ZN</th>\n",
              "      <th>INDUS</th>\n",
              "      <th>CHAS</th>\n",
              "      <th>NOX</th>\n",
              "      <th>RM</th>\n",
              "      <th>AGE</th>\n",
              "      <th>DIS</th>\n",
              "      <th>RAD</th>\n",
              "      <th>TAX</th>\n",
              "      <th>PTRATIO</th>\n",
              "      <th>B</th>\n",
              "      <th>LSTAT</th>\n",
              "      <th>MEDV</th>\n",
              "    </tr>\n",
              "  </thead>\n",
              "  <tbody>\n",
              "    <tr>\n",
              "      <th>0</th>\n",
              "      <td>0.00632</td>\n",
              "      <td>18.0</td>\n",
              "      <td>2.31</td>\n",
              "      <td>0.0</td>\n",
              "      <td>0.538</td>\n",
              "      <td>6.575</td>\n",
              "      <td>65.2</td>\n",
              "      <td>4.0900</td>\n",
              "      <td>1</td>\n",
              "      <td>296</td>\n",
              "      <td>15.3</td>\n",
              "      <td>396.90</td>\n",
              "      <td>4.98</td>\n",
              "      <td>24.0</td>\n",
              "    </tr>\n",
              "    <tr>\n",
              "      <th>1</th>\n",
              "      <td>0.02731</td>\n",
              "      <td>0.0</td>\n",
              "      <td>7.07</td>\n",
              "      <td>0.0</td>\n",
              "      <td>0.469</td>\n",
              "      <td>6.421</td>\n",
              "      <td>78.9</td>\n",
              "      <td>4.9671</td>\n",
              "      <td>2</td>\n",
              "      <td>242</td>\n",
              "      <td>17.8</td>\n",
              "      <td>396.90</td>\n",
              "      <td>9.14</td>\n",
              "      <td>21.6</td>\n",
              "    </tr>\n",
              "    <tr>\n",
              "      <th>2</th>\n",
              "      <td>0.02729</td>\n",
              "      <td>0.0</td>\n",
              "      <td>7.07</td>\n",
              "      <td>0.0</td>\n",
              "      <td>0.469</td>\n",
              "      <td>7.185</td>\n",
              "      <td>61.1</td>\n",
              "      <td>4.9671</td>\n",
              "      <td>2</td>\n",
              "      <td>242</td>\n",
              "      <td>17.8</td>\n",
              "      <td>392.83</td>\n",
              "      <td>4.03</td>\n",
              "      <td>34.7</td>\n",
              "    </tr>\n",
              "    <tr>\n",
              "      <th>3</th>\n",
              "      <td>0.03237</td>\n",
              "      <td>0.0</td>\n",
              "      <td>2.18</td>\n",
              "      <td>0.0</td>\n",
              "      <td>0.458</td>\n",
              "      <td>6.998</td>\n",
              "      <td>45.8</td>\n",
              "      <td>6.0622</td>\n",
              "      <td>3</td>\n",
              "      <td>222</td>\n",
              "      <td>18.7</td>\n",
              "      <td>394.63</td>\n",
              "      <td>2.94</td>\n",
              "      <td>33.4</td>\n",
              "    </tr>\n",
              "    <tr>\n",
              "      <th>4</th>\n",
              "      <td>0.06905</td>\n",
              "      <td>0.0</td>\n",
              "      <td>2.18</td>\n",
              "      <td>0.0</td>\n",
              "      <td>0.458</td>\n",
              "      <td>7.147</td>\n",
              "      <td>54.2</td>\n",
              "      <td>6.0622</td>\n",
              "      <td>3</td>\n",
              "      <td>222</td>\n",
              "      <td>18.7</td>\n",
              "      <td>396.90</td>\n",
              "      <td>NaN</td>\n",
              "      <td>36.2</td>\n",
              "    </tr>\n",
              "    <tr>\n",
              "      <th>...</th>\n",
              "      <td>...</td>\n",
              "      <td>...</td>\n",
              "      <td>...</td>\n",
              "      <td>...</td>\n",
              "      <td>...</td>\n",
              "      <td>...</td>\n",
              "      <td>...</td>\n",
              "      <td>...</td>\n",
              "      <td>...</td>\n",
              "      <td>...</td>\n",
              "      <td>...</td>\n",
              "      <td>...</td>\n",
              "      <td>...</td>\n",
              "      <td>...</td>\n",
              "    </tr>\n",
              "    <tr>\n",
              "      <th>501</th>\n",
              "      <td>0.06263</td>\n",
              "      <td>0.0</td>\n",
              "      <td>11.93</td>\n",
              "      <td>0.0</td>\n",
              "      <td>0.573</td>\n",
              "      <td>6.593</td>\n",
              "      <td>69.1</td>\n",
              "      <td>2.4786</td>\n",
              "      <td>1</td>\n",
              "      <td>273</td>\n",
              "      <td>21.0</td>\n",
              "      <td>391.99</td>\n",
              "      <td>NaN</td>\n",
              "      <td>22.4</td>\n",
              "    </tr>\n",
              "    <tr>\n",
              "      <th>502</th>\n",
              "      <td>0.04527</td>\n",
              "      <td>0.0</td>\n",
              "      <td>11.93</td>\n",
              "      <td>0.0</td>\n",
              "      <td>0.573</td>\n",
              "      <td>6.120</td>\n",
              "      <td>76.7</td>\n",
              "      <td>2.2875</td>\n",
              "      <td>1</td>\n",
              "      <td>273</td>\n",
              "      <td>21.0</td>\n",
              "      <td>396.90</td>\n",
              "      <td>9.08</td>\n",
              "      <td>20.6</td>\n",
              "    </tr>\n",
              "    <tr>\n",
              "      <th>503</th>\n",
              "      <td>0.06076</td>\n",
              "      <td>0.0</td>\n",
              "      <td>11.93</td>\n",
              "      <td>0.0</td>\n",
              "      <td>0.573</td>\n",
              "      <td>6.976</td>\n",
              "      <td>91.0</td>\n",
              "      <td>2.1675</td>\n",
              "      <td>1</td>\n",
              "      <td>273</td>\n",
              "      <td>21.0</td>\n",
              "      <td>396.90</td>\n",
              "      <td>5.64</td>\n",
              "      <td>23.9</td>\n",
              "    </tr>\n",
              "    <tr>\n",
              "      <th>504</th>\n",
              "      <td>0.10959</td>\n",
              "      <td>0.0</td>\n",
              "      <td>11.93</td>\n",
              "      <td>0.0</td>\n",
              "      <td>0.573</td>\n",
              "      <td>6.794</td>\n",
              "      <td>89.3</td>\n",
              "      <td>2.3889</td>\n",
              "      <td>1</td>\n",
              "      <td>273</td>\n",
              "      <td>21.0</td>\n",
              "      <td>393.45</td>\n",
              "      <td>6.48</td>\n",
              "      <td>22.0</td>\n",
              "    </tr>\n",
              "    <tr>\n",
              "      <th>505</th>\n",
              "      <td>0.04741</td>\n",
              "      <td>0.0</td>\n",
              "      <td>11.93</td>\n",
              "      <td>0.0</td>\n",
              "      <td>0.573</td>\n",
              "      <td>6.030</td>\n",
              "      <td>NaN</td>\n",
              "      <td>2.5050</td>\n",
              "      <td>1</td>\n",
              "      <td>273</td>\n",
              "      <td>21.0</td>\n",
              "      <td>396.90</td>\n",
              "      <td>7.88</td>\n",
              "      <td>11.9</td>\n",
              "    </tr>\n",
              "  </tbody>\n",
              "</table>\n",
              "<p>506 rows × 14 columns</p>\n",
              "</div>"
            ],
            "text/plain": [
              "        CRIM    ZN  INDUS  CHAS    NOX  ...  TAX  PTRATIO       B  LSTAT  MEDV\n",
              "0    0.00632  18.0   2.31   0.0  0.538  ...  296     15.3  396.90   4.98  24.0\n",
              "1    0.02731   0.0   7.07   0.0  0.469  ...  242     17.8  396.90   9.14  21.6\n",
              "2    0.02729   0.0   7.07   0.0  0.469  ...  242     17.8  392.83   4.03  34.7\n",
              "3    0.03237   0.0   2.18   0.0  0.458  ...  222     18.7  394.63   2.94  33.4\n",
              "4    0.06905   0.0   2.18   0.0  0.458  ...  222     18.7  396.90    NaN  36.2\n",
              "..       ...   ...    ...   ...    ...  ...  ...      ...     ...    ...   ...\n",
              "501  0.06263   0.0  11.93   0.0  0.573  ...  273     21.0  391.99    NaN  22.4\n",
              "502  0.04527   0.0  11.93   0.0  0.573  ...  273     21.0  396.90   9.08  20.6\n",
              "503  0.06076   0.0  11.93   0.0  0.573  ...  273     21.0  396.90   5.64  23.9\n",
              "504  0.10959   0.0  11.93   0.0  0.573  ...  273     21.0  393.45   6.48  22.0\n",
              "505  0.04741   0.0  11.93   0.0  0.573  ...  273     21.0  396.90   7.88  11.9\n",
              "\n",
              "[506 rows x 14 columns]"
            ]
          },
          "metadata": {
            "tags": []
          },
          "execution_count": 1
        }
      ]
    },
    {
      "cell_type": "code",
      "metadata": {
        "id": "lnh4T7IKjjRY"
      },
      "source": [
        "import numpy as np\n",
        "from sklearn import datasets, linear_model\n",
        "import matplotlib.pyplot as plt\n",
        "\n",
        "\n"
      ],
      "execution_count": 2,
      "outputs": []
    },
    {
      "cell_type": "markdown",
      "metadata": {
        "id": "tR323IPrSq9m"
      },
      "source": [
        "#Visualizacion de los Datos"
      ]
    },
    {
      "cell_type": "code",
      "metadata": {
        "colab": {
          "base_uri": "https://localhost:8080/",
          "height": 349
        },
        "id": "v0_OXes4mAfW",
        "outputId": "98ede20e-75a3-48fd-ac8d-75808a225268"
      },
      "source": [
        "Datos = pd.DataFrame(Datos);\n",
        "X = Datos['RM'] #Cantidad de habitaciones\n",
        "y = Datos['MEDV'] #Valor medio de la propiedad\n",
        "plt.scatter(X,y)\n",
        "plt.title('Datos')\n",
        "plt.xlabel('Numero de habitaciones')\n",
        "plt.ylabel('Valor Medio')\n",
        "plt.show()\n",
        "X = X[~(np.isnan(X))] \n",
        "y = y[~(np.isnan(y))] \n",
        "X = X[:, np.newaxis]\n",
        "\n",
        "y = np.array(y)\n",
        "\n"
      ],
      "execution_count": 3,
      "outputs": [
        {
          "output_type": "display_data",
          "data": {
            "image/png": "[encoded data removed]",
            "text/plain": [
              "<Figure size 432x288 with 1 Axes>"
            ]
          },
          "metadata": {
            "tags": [],
            "needs_background": "light"
          }
        },
        {
          "output_type": "stream",
          "text": [
            "/usr/local/lib/python3.6/dist-packages/ipykernel_launcher.py:11: FutureWarning: Support for multi-dimensional indexing (e.g. `obj[:, None]`) is deprecated and will be removed in a future version.  Convert to a numpy array before indexing instead.\n",
            "  # This is added back by InteractiveShellApp.init_path()\n"
          ],
          "name": "stderr"
        }
      ]
    },
    {
      "cell_type": "markdown",
      "metadata": {
        "id": "aPwltMUMQQqm"
      },
      "source": [
        "En este caso  se utilizo la cantidad media de habitaciones, ya que es un atributo que muchas personas se fijan a la hora de comprar una casa y ademas es un factor que influye mucho en el precio de la propiedad ya que al tener mas habitaciones conlleva a que la propiedad sea mas grande y por ende sea mas cara."
      ]
    },
    {
      "cell_type": "markdown",
      "metadata": {
        "id": "d0ETq7E7GhQf"
      },
      "source": [
        "#Regresion lineal simple"
      ]
    },
    {
      "cell_type": "code",
      "metadata": {
        "colab": {
          "base_uri": "https://localhost:8080/",
          "height": 295
        },
        "id": "slnHmhSpoDmA",
        "outputId": "73682290-7db3-4bd5-c6f9-6787689e4bbe"
      },
      "source": [
        "from sklearn.model_selection import train_test_split\n",
        "\n",
        "X_train, X_test, y_train, y_test = train_test_split(X,y, test_size=0.2)\n",
        "\n",
        "lr =  linear_model.LinearRegression()\n",
        "\n",
        "lr.fit(X_train, y_train)\n",
        "\n",
        "Y_pred = lr.predict(X_test)\n",
        "\n",
        "plt.scatter(X_test,y_test)\n",
        "plt.plot(X_test, Y_pred,color='red', linewidth= 3)\n",
        "plt.title('Regresion lineal')\n",
        "plt.xlabel('Numero de habitaciones')\n",
        "plt.ylabel('Valor Medio')\n",
        "plt.show()\n",
        " \n",
        " "
      ],
      "execution_count": 4,
      "outputs": [
        {
          "output_type": "display_data",
          "data": {
            "image/png": "[encoded data removed]",
            "text/plain": [
              "<Figure size 432x288 with 1 Axes>"
            ]
          },
          "metadata": {
            "tags": [],
            "needs_background": "light"
          }
        }
      ]
    },
    {
      "cell_type": "markdown",
      "metadata": {
        "id": "d0M2WRQvCqqz"
      },
      "source": [
        "#Datos de la regresion lineal"
      ]
    },
    {
      "cell_type": "code",
      "metadata": {
        "colab": {
          "base_uri": "https://localhost:8080/",
          "height": 315
        },
        "id": "9PPbUxdzCugq",
        "outputId": "e0b8ca2f-e711-4e43-a776-a55decd32561"
      },
      "source": [
        "Coeficiente = lr.coef_\n",
        "Valor_independiente = lr.intercept_\n",
        "x1 = [4,8]\n",
        "print('La pendiente es: ', Coeficiente[0])\n",
        "print('El termino independiente es: ', Valor_independiente)\n",
        "\n",
        "Ec = Coeficiente*x1 + Valor_independiente\n",
        "\n",
        "plt.plot(Ec,color='red', linewidth= 3)\n",
        "\n",
        "#Precision del modelo\n",
        "print('La precision del modelo es:  ', lr.score(X_train, y_train))\n"
      ],
      "execution_count": 5,
      "outputs": [
        {
          "output_type": "stream",
          "text": [
            "La pendiente es:  9.698981303173845\n",
            "El termino independiente es:  -38.3038270882361\n",
            "La precision del modelo es:   0.514861755502487\n"
          ],
          "name": "stdout"
        },
        {
          "output_type": "display_data",
          "data": {
            "image/png": "[encoded data removed]",
            "text/plain": [
              "<Figure size 432x288 with 1 Axes>"
            ]
          },
          "metadata": {
            "tags": [],
            "needs_background": "light"
          }
        }
      ]
    },
    {
      "cell_type": "markdown",
      "metadata": {
        "id": "Cz5VuK2ARV4f"
      },
      "source": [
        "Se puede apreciar que la precision del modelo es de un 52 % lo cual se puede tomar como aceptable para este trabajo ya que acienta en mas de la mitad de las ocaciones "
      ]
    },
    {
      "cell_type": "markdown",
      "metadata": {
        "id": "HFkdqCcNIrnU"
      },
      "source": [
        "#Regresion lineal multiple\n",
        "\n",
        "Se procedio a realizar un tipo de regresion un poco mas completa teniendo en cuenta otro factor importante que influye en el valor de la propiedad"
      ]
    },
    {
      "cell_type": "code",
      "metadata": {
        "id": "VO1rCID_IwZE"
      },
      "source": [
        "from mpl_toolkits.mplot3d import Axes3D\n",
        "\n",
        "X_multiple = Datos[['RM','TAX']] # Tenemos en cuenta Cantidad media de habitaciones y tasa de impuesto a la propiedad de valor total por $ 10,000.\n",
        "y_multiple = Datos['MEDV'] #Valor medio de la propiedad\n",
        "\n",
        "X_multiple = X_multiple[~(np.isnan(X_multiple))] \n",
        "y_multiple = y_multiple[~(np.isnan(y_multiple))] \n",
        "X_multiple = np.array(X_multiple)\n",
        "\n",
        "y_multiple = np.array(y_multiple)\n",
        "\n"
      ],
      "execution_count": 6,
      "outputs": []
    },
    {
      "cell_type": "markdown",
      "metadata": {
        "id": "m36pPp6mR5P2"
      },
      "source": [
        "En este caso se tuvo tambien en cuenta la tasa de impuesto a la propiedad, ya que al pagar mas impuestos se puede suponer que la propiedad se encuentra en una mejor hubicacion o esta situada en un lote el cual es relativamente mas grande que otros.\n",
        "\n",
        "\n"
      ]
    },
    {
      "cell_type": "code",
      "metadata": {
        "id": "r6kUfGdXK0da"
      },
      "source": [
        "XY_train, XY_test, z_train, z_test = train_test_split(X_multiple,y_multiple, test_size=0.2)\n",
        "\n",
        "lr_multiple =  linear_model.LinearRegression()\n",
        "\n",
        "lr_multiple.fit(XY_train, z_train)\n",
        "\n",
        "z_pred = lr_multiple.predict(XY_test)"
      ],
      "execution_count": 7,
      "outputs": []
    },
    {
      "cell_type": "markdown",
      "metadata": {
        "id": "JnJCWKGQOrhs"
      },
      "source": [
        "#Datos de la regresion lineal multiple"
      ]
    },
    {
      "cell_type": "code",
      "metadata": {
        "colab": {
          "base_uri": "https://localhost:8080/"
        },
        "id": "qrSxCxUeNDR4",
        "outputId": "2de3c5d5-8d03-44fd-e891-cacc7cb6e26a"
      },
      "source": [
        "Coeficiente_multiple = lr_multiple.coef_\n",
        "Valor_independiente_multiple = lr_multiple.intercept_\n",
        "print('Los coeficientes son: ', Coeficiente_multiple[0], ' y ', Coeficiente_multiple[1])\n",
        "print('El termino independiente es: ', Valor_independiente_multiple)\n",
        "print('La precision del modelo es:  ', lr_multiple.score(XY_train, z_train))\n"
      ],
      "execution_count": 8,
      "outputs": [
        {
          "output_type": "stream",
          "text": [
            "Los coeficientes son:  7.800455441609266  y  -0.016309178709379122\n",
            "El termino independiente es:  -19.79117970440686\n",
            "La precision del modelo es:   0.5431946949132744\n"
          ],
          "name": "stdout"
        }
      ]
    },
    {
      "cell_type": "markdown",
      "metadata": {
        "id": "TrxObB75P3nu"
      },
      "source": [
        "Podemos notar que utilizando varios atributos influyentes en el precio podemos mejorar la precision del modelo.\n",
        "En este caso pudimos mejorar la precision del modelo de 52 % a 61 %, lo cual es una mejora importante."
      ]
    },
    {
      "cell_type": "markdown",
      "metadata": {
        "id": "eiXH4MHc0v5I"
      },
      "source": [
        "#Bosque aleatorio de regresion"
      ]
    },
    {
      "cell_type": "code",
      "metadata": {
        "id": "eWRkTl5P0yPt"
      },
      "source": [
        "from sklearn.ensemble import RandomForestRegressor\n",
        "\n",
        "\n",
        "Bosque = RandomForestRegressor(n_estimators =300, max_depth = 10)\n",
        "Bosque.fit(X_train, y_train)\n",
        "y_pred = Bosque.predict(X_test)\n"
      ],
      "execution_count": 9,
      "outputs": []
    },
    {
      "cell_type": "markdown",
      "metadata": {
        "id": "1FDRzH0p1v9U"
      },
      "source": [
        "#Visualizacion de los resultados"
      ]
    },
    {
      "cell_type": "code",
      "metadata": {
        "colab": {
          "base_uri": "https://localhost:8080/",
          "height": 265
        },
        "id": "f1U-zRgA17G9",
        "outputId": "1e490e98-dac6-4560-e779-983cbb6061b2"
      },
      "source": [
        "X_grid = np.arange(min(X_test),max(X_test), 0.1)\n",
        "X_grid = X_grid.reshape((len(X_grid),1))\n",
        "plt.scatter(X_test,y_test)\n",
        "\n",
        "plt.plot(X_grid, Bosque.predict(X_grid), color = 'red', linewidth = 3)\n",
        "plt.show()"
      ],
      "execution_count": 10,
      "outputs": [
        {
          "output_type": "display_data",
          "data": {
            "image/png": "[encoded data removed]",
            "text/plain": [
              "<Figure size 432x288 with 1 Axes>"
            ]
          },
          "metadata": {
            "tags": [],
            "needs_background": "light"
          }
        }
      ]
    },
    {
      "cell_type": "code",
      "metadata": {
        "colab": {
          "base_uri": "https://localhost:8080/"
        },
        "id": "LOxS6iTM22og",
        "outputId": "bac8321e-fa89-4d82-d116-8dac81c6bcd3"
      },
      "source": [
        "\n",
        "print('La precision del modelo es:  ', Bosque.score(X_train, y_train))"
      ],
      "execution_count": 11,
      "outputs": [
        {
          "output_type": "stream",
          "text": [
            "La precision del modelo es:   0.8547755131041176\n"
          ],
          "name": "stdout"
        }
      ]
    },
    {
      "cell_type": "markdown",
      "metadata": {
        "id": "AFRC3SoW3flU"
      },
      "source": [
        "Podemos ver que el modelo de bosques aleatorios de regresion tienen una precision del 85 %, lo cual es muchisimo mayor que la precision que se obtenia con los modelos de regresion lineal."
      ]
    }
  ]
}