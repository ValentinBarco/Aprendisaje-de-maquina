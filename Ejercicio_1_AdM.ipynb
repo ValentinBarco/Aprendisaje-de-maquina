{
  "nbformat": 4,
  "nbformat_minor": 0,
  "metadata": {
    "colab": {
      "name": "Ejercicio 1 AdM",
      "provenance": [],
      "authorship_tag": "ABX9TyOxHhKeu5JEVg9ZgSVJRGFr",
      "include_colab_link": true
    },
    "kernelspec": {
      "name": "python3",
      "display_name": "Python 3"
    }
  },
  "cells": [
    {
      "cell_type": "markdown",
      "metadata": {
        "id": "view-in-github",
        "colab_type": "text"
      },
      "source": [
        "<a href=\"https://colab.research.google.com/github/ValentinBarco/Aprendisaje-de-maquina/blob/master/Ejercicio_1_AdM.ipynb\" target=\"_parent\"><img src=\"https://colab.research.google.com/assets/colab-badge.svg\" alt=\"Open In Colab\"/></a>"
      ]
    },
    {
      "cell_type": "code",
      "metadata": {
        "id": "V0zmDyQHZiHy"
      },
      "source": [
        "import pandas as pd\n",
        "import matplotlib.pyplot as plt\n",
        "from sklearn.linear_model import LinearRegression\n",
        "from sklearn.metrics import mean_squared_error, r2_score\n",
        "import numpy as np\n",
        "\n",
        "\n",
        "#Conjunto de datos 1\n",
        "x1 = pd.Series([10,8,13,9,11,14,6,4,12,7,5])\n",
        "y1 = pd.Series([8.04,6.95,7.58,8.81,8.33,9.96,7.24,4.26,10.84,4.82,5.68])\n",
        "\n",
        "Datos1 = pd.DataFrame({'x':x1,'y':y1})\n",
        "\n",
        "#Conjunto de datos 2\n",
        "x2 = pd.Series([10,8,13,9,11,14,6,4,12,7,5])\n",
        "y2 = pd.Series([9.14,8.14,8.74,8.77,9.26,8.1,6.13,3.10,9.13,7.26,4.74])\n",
        "\n",
        "Datos2 = pd.DataFrame({'x':x2,'y':y2})\n",
        "\n",
        "#Conjunto de datos 3\n",
        "x3 = pd.Series([10,8,13,9,11,14,6,4,12,7,5])\n",
        "y3 = pd.Series([7.46,6.77,12.74,7.11,7.81,8.84,6.08,5.39,8.15,6.42,5.73])\n",
        "\n",
        "Datos3 = pd.DataFrame({'x':x3,'y':y3})\n",
        "\n",
        "#Conjunto de datos 4\n",
        "x4= pd.Series([8,8,8,8,8,8,8,19,8,8,8])\n",
        "y4 = pd.Series([6.58,5.76,7.71,8.84,8.47,7.04,5.25,12.5,5.56,7.91,6.89])\n",
        "\n",
        "Datos4 = pd.DataFrame({'x':x4,'y':y4})"
      ],
      "execution_count": 59,
      "outputs": []
    },
    {
      "cell_type": "markdown",
      "metadata": {
        "id": "noOZic40gzSN"
      },
      "source": [
        "#Visualizacion de los datos"
      ]
    },
    {
      "cell_type": "code",
      "metadata": {
        "id": "gXmbMT_EasTk",
        "outputId": "2de9ffaf-02b5-451d-b90a-6b87517e0a03",
        "colab": {
          "base_uri": "https://localhost:8080/",
          "height": 282
        }
      },
      "source": [
        "#Conjunto de datos 1\n",
        "plt.scatter(Datos1['x'],Datos1['y'])"
      ],
      "execution_count": 14,
      "outputs": [
        {
          "output_type": "execute_result",
          "data": {
            "text/plain": [
              "<matplotlib.collections.PathCollection at 0x7ff3d6b30978>"
            ]
          },
          "metadata": {
            "tags": []
          },
          "execution_count": 14
        },
        {
          "output_type": "display_data",
          "data": {
            "image/png": "[encoded data removed]",
            "text/plain": [
              "<Figure size 432x288 with 1 Axes>"
            ]
          },
          "metadata": {
            "tags": [],
            "needs_background": "light"
          }
        }
      ]
    },
    {
      "cell_type": "code",
      "metadata": {
        "id": "j_SFq5d9bgJE",
        "outputId": "9a946f95-69e4-41a2-c45e-32cfbf0aab25",
        "colab": {
          "base_uri": "https://localhost:8080/",
          "height": 282
        }
      },
      "source": [
        "#Conjunto de datos 2\n",
        "plt.scatter(Datos2['x'],Datos2['y'])"
      ],
      "execution_count": 15,
      "outputs": [
        {
          "output_type": "execute_result",
          "data": {
            "text/plain": [
              "<matplotlib.collections.PathCollection at 0x7ff3d6a99588>"
            ]
          },
          "metadata": {
            "tags": []
          },
          "execution_count": 15
        },
        {
          "output_type": "display_data",
          "data": {
            "image/png": "[encoded data removed]",
            "text/plain": [
              "<Figure size 432x288 with 1 Axes>"
            ]
          },
          "metadata": {
            "tags": [],
            "needs_background": "light"
          }
        }
      ]
    },
    {
      "cell_type": "code",
      "metadata": {
        "id": "Paf8_XVdbkji",
        "outputId": "28d734a8-701b-4aff-8e22-023f2478d494",
        "colab": {
          "base_uri": "https://localhost:8080/",
          "height": 283
        }
      },
      "source": [
        "#Conjunto de datos 3\n",
        "plt.scatter(Datos3['x'],Datos3['y'])"
      ],
      "execution_count": 8,
      "outputs": [
        {
          "output_type": "execute_result",
          "data": {
            "text/plain": [
              "<matplotlib.collections.PathCollection at 0x7ff3d6db8780>"
            ]
          },
          "metadata": {
            "tags": []
          },
          "execution_count": 8
        },
        {
          "output_type": "display_data",
          "data": {
            "image/png": "[encoded data removed]",
            "text/plain": [
              "<Figure size 432x288 with 1 Axes>"
            ]
          },
          "metadata": {
            "tags": [],
            "needs_background": "light"
          }
        }
      ]
    },
    {
      "cell_type": "code",
      "metadata": {
        "id": "s8GtYi4MbnW5",
        "outputId": "28ac7bcc-6506-4380-cf63-d5e36580c8d8",
        "colab": {
          "base_uri": "https://localhost:8080/",
          "height": 282
        }
      },
      "source": [
        "#Conjunto de datos 4\n",
        "scatter(Datos4['x'],Datos4['y'])"
      ],
      "execution_count": 9,
      "outputs": [
        {
          "output_type": "execute_result",
          "data": {
            "text/plain": [
              "<matplotlib.collections.PathCollection at 0x7ff3d6eb9a20>"
            ]
          },
          "metadata": {
            "tags": []
          },
          "execution_count": 9
        },
        {
          "output_type": "display_data",
          "data": {
            "image/png": "[encoded data removed]",
            "text/plain": [
              "<Figure size 432x288 with 1 Axes>"
            ]
          },
          "metadata": {
            "tags": [],
            "needs_background": "light"
          }
        }
      ]
    },
    {
      "cell_type": "code",
      "metadata": {
        "id": "P2tS6dEHceJJ",
        "outputId": "4c6d7e32-0ba3-475d-d370-157f1ced5934",
        "colab": {
          "base_uri": "https://localhost:8080/",
          "height": 282
        }
      },
      "source": [
        "#Visualizacion de los datos a insertar \n",
        "plt.scatter(16,8,marker='v',c='r')\n",
        "plt.scatter(8,6,marker='v', c='r')\n",
        "plt.scatter(16,10,marker='v',c='r')\n",
        "plt.scatter(16,6,marker='v',c='r')"
      ],
      "execution_count": 18,
      "outputs": [
        {
          "output_type": "execute_result",
          "data": {
            "text/plain": [
              "<matplotlib.collections.PathCollection at 0x7ff3d6982f98>"
            ]
          },
          "metadata": {
            "tags": []
          },
          "execution_count": 18
        },
        {
          "output_type": "display_data",
          "data": {
            "image/png": "[encoded data removed]",
            "text/plain": [
              "<Figure size 432x288 with 1 Axes>"
            ]
          },
          "metadata": {
            "tags": [],
            "needs_background": "light"
          }
        }
      ]
    },
    {
      "cell_type": "markdown",
      "metadata": {
        "id": "Inni34-4ivuY"
      },
      "source": [
        "# Resolucion de Forma grafica\n",
        "Las concluciones se encuentran al final de cada grafico"
      ]
    },
    {
      "cell_type": "code",
      "metadata": {
        "id": "_5yKlb2phNyh",
        "outputId": "da363f08-f4ff-40ca-ec8f-3bb1fb4f0e01",
        "colab": {
          "base_uri": "https://localhost:8080/",
          "height": 282
        }
      },
      "source": [
        "plt.scatter(Datos1['x'],Datos1['y'])\n",
        "plt.scatter(16,8,marker='v',c='r')\n",
        "plt.scatter(8,6,marker='v', c='r')\n",
        "plt.scatter(16,10,marker='v',c='r')\n",
        "plt.scatter(16,6,marker='v',c='r')"
      ],
      "execution_count": 20,
      "outputs": [
        {
          "output_type": "execute_result",
          "data": {
            "text/plain": [
              "<matplotlib.collections.PathCollection at 0x7ff3d688b588>"
            ]
          },
          "metadata": {
            "tags": []
          },
          "execution_count": 20
        },
        {
          "output_type": "display_data",
          "data": {
            "image/png": "[encoded data removed]",
            "text/plain": [
              "<Figure size 432x288 with 1 Axes>"
            ]
          },
          "metadata": {
            "tags": [],
            "needs_background": "light"
          }
        }
      ]
    },
    {
      "cell_type": "markdown",
      "metadata": {
        "id": "964hA2D_jM3V"
      },
      "source": [
        "Este caso es el menos grafico de todos, ya que no es tan facil distinguir que punto pertenece al conjunto de datos 1, asi que luego de descartar los otros puntos devido a que pertenecieron claramente a los otros conjuntos de datos, es posible determinar que el punto [16,8] pertenece al conjunto de datos 1."
      ]
    },
    {
      "cell_type": "code",
      "metadata": {
        "id": "8SByC9jthNnI",
        "outputId": "db193826-c095-4d99-8cc1-0b7ad98f287e",
        "colab": {
          "base_uri": "https://localhost:8080/",
          "height": 282
        }
      },
      "source": [
        "plt.scatter(Datos2['x'],Datos2['y'])\n",
        "plt.scatter(16,8,marker='v',c='r')\n",
        "plt.scatter(8,6,marker='v', c='r')\n",
        "plt.scatter(16,10,marker='v',c='r')\n",
        "plt.scatter(16,6,marker='v',c='r')"
      ],
      "execution_count": 21,
      "outputs": [
        {
          "output_type": "execute_result",
          "data": {
            "text/plain": [
              "<matplotlib.collections.PathCollection at 0x7ff3d67fb780>"
            ]
          },
          "metadata": {
            "tags": []
          },
          "execution_count": 21
        },
        {
          "output_type": "display_data",
          "data": {
            "image/png": "[encoded data removed]",
            "text/plain": [
              "<Figure size 432x288 with 1 Axes>"
            ]
          },
          "metadata": {
            "tags": [],
            "needs_background": "light"
          }
        }
      ]
    },
    {
      "cell_type": "markdown",
      "metadata": {
        "id": "ERldf6nHi8sF"
      },
      "source": [
        "Es claro que el punto [16,6] pertenece al conjunto de datos 2"
      ]
    },
    {
      "cell_type": "code",
      "metadata": {
        "id": "3hh4FiWRhbBi",
        "outputId": "6cb8e741-053a-4930-c9c4-8469809ccbcd",
        "colab": {
          "base_uri": "https://localhost:8080/",
          "height": 283
        }
      },
      "source": [
        "plt.scatter(Datos3['x'],Datos3['y'])\n",
        "plt.scatter(16,8,marker='v',c='r')\n",
        "plt.scatter(8,6,marker='v', c='r')\n",
        "plt.scatter(16,10,marker='v',c='r')\n",
        "plt.scatter(16,6,marker='v',c='r')"
      ],
      "execution_count": 22,
      "outputs": [
        {
          "output_type": "execute_result",
          "data": {
            "text/plain": [
              "<matplotlib.collections.PathCollection at 0x7ff3d676cd68>"
            ]
          },
          "metadata": {
            "tags": []
          },
          "execution_count": 22
        },
        {
          "output_type": "display_data",
          "data": {
            "image/png": "[encoded data removed]",
            "text/plain": [
              "<Figure size 432x288 with 1 Axes>"
            ]
          },
          "metadata": {
            "tags": [],
            "needs_background": "light"
          }
        }
      ]
    },
    {
      "cell_type": "markdown",
      "metadata": {
        "id": "jLIQigC4iLSl"
      },
      "source": [
        "Es posible notar que el punto [16,10] es el que mas se adapta al conjunto de datos 3"
      ]
    },
    {
      "cell_type": "code",
      "metadata": {
        "id": "VYKVwLmohb2G",
        "outputId": "1caaac7e-ba45-43e0-e6be-565df28d118b",
        "colab": {
          "base_uri": "https://localhost:8080/",
          "height": 282
        }
      },
      "source": [
        "plt.scatter(Datos4['x'],Datos4['y'])\n",
        "plt.scatter(16,8,marker='v',c='r')\n",
        "plt.scatter(8,6,marker='v', c='r')\n",
        "plt.scatter(16,10,marker='v',c='r')\n",
        "plt.scatter(16,6,marker='v',c='r')"
      ],
      "execution_count": 23,
      "outputs": [
        {
          "output_type": "execute_result",
          "data": {
            "text/plain": [
              "<matplotlib.collections.PathCollection at 0x7ff3d6d6c438>"
            ]
          },
          "metadata": {
            "tags": []
          },
          "execution_count": 23
        },
        {
          "output_type": "display_data",
          "data": {
            "image/png": "[encoded data removed]",
            "text/plain": [
              "<Figure size 432x288 with 1 Axes>"
            ]
          },
          "metadata": {
            "tags": [],
            "needs_background": "light"
          }
        }
      ]
    },
    {
      "cell_type": "markdown",
      "metadata": {
        "id": "26pyWdQhhzzU"
      },
      "source": [
        "Se puede ver que en el punto [8,6] se adapta perfectamente al conjunto de datos 4"
      ]
    },
    {
      "cell_type": "markdown",
      "metadata": {
        "id": "50CnDU7RkNdS"
      },
      "source": [
        "# Comprobacion"
      ]
    },
    {
      "cell_type": "code",
      "metadata": {
        "id": "7hH0vyz0qEhR",
        "outputId": "d0430c8f-2f86-46cc-c7ee-61a762800879",
        "colab": {
          "base_uri": "https://localhost:8080/",
          "height": 265
        }
      },
      "source": [
        "Punto1= {'x':16,'y':8}\n",
        "Datos1 = Datos1.append(Punto1, ignore_index=True);\n",
        "X = Datos1.iloc[:, 0].values.reshape(-1, 1)\n",
        "Y = Datos1.iloc[:, 1].values.reshape(-1, 1) \n",
        "linear_regressor = LinearRegression()\n",
        "linear_regressor.fit(X, Y)\n",
        "Y_pred = linear_regressor.predict(X)\n",
        "plt.scatter(X, Y)\n",
        "plt.plot(X, Y_pred, color='red')\n",
        "plt.show()\n"
      ],
      "execution_count": 62,
      "outputs": [
        {
          "output_type": "display_data",
          "data": {
            "image/png": "[encoded data removed]",
            "text/plain": [
              "<Figure size 432x288 with 1 Axes>"
            ]
          },
          "metadata": {
            "tags": [],
            "needs_background": "light"
          }
        }
      ]
    },
    {
      "cell_type": "code",
      "metadata": {
        "id": "XbJoziR4srqY",
        "outputId": "87efc5f4-bc54-472f-a9f8-16e0a722dfba",
        "colab": {
          "base_uri": "https://localhost:8080/",
          "height": 265
        }
      },
      "source": [
        "Punto2= {'x':16,'y':6}\n",
        "Datos2 = Datos2.append(Punto2, ignore_index=True);\n",
        "X = Datos2.iloc[:, 0].values.reshape(-1, 1) \n",
        "Y = Datos2.iloc[:, 1].values.reshape(-1, 1) \n",
        "linear_regressor = LinearRegression()\n",
        "linear_regressor.fit(X, Y)\n",
        "Y_pred = linear_regressor.predict(X)\n",
        "plt.scatter(X, Y)\n",
        "plt.plot(X, Y_pred, color='red')\n",
        "plt.show()"
      ],
      "execution_count": 60,
      "outputs": [
        {
          "output_type": "display_data",
          "data": {
            "image/png": "[encoded data removed]",
            "text/plain": [
              "<Figure size 432x288 with 1 Axes>"
            ]
          },
          "metadata": {
            "tags": [],
            "needs_background": "light"
          }
        }
      ]
    },
    {
      "cell_type": "code",
      "metadata": {
        "id": "6BGLYSj2swjZ",
        "outputId": "4cf5b422-376d-4afc-8227-11f6d3d234e1",
        "colab": {
          "base_uri": "https://localhost:8080/",
          "height": 283
        }
      },
      "source": [
        "Punto3= {'x':16,'y':10}\n",
        "Datos3 = Datos3.append(Punto3, ignore_index=True);\n",
        "X = Datos3.iloc[:, 0].values.reshape(-1, 1) \n",
        "Y = Datos3.iloc[:, 1].values.reshape(-1, 1)\n",
        "linear_regressor = LinearRegression()\n",
        "linear_regressor.fit(X, Y)\n",
        "Y_pred = linear_regressor.predict(X)\n",
        "plt.scatter(X, Y)\n",
        "plt.plot(X, Y_pred, color='red')\n",
        "plt.show()\n"
      ],
      "execution_count": 74,
      "outputs": [
        {
          "output_type": "display_data",
          "data": {
            "image/png": "[encoded data removed]",
            "text/plain": [
              "<Figure size 432x288 with 1 Axes>"
            ]
          },
          "metadata": {
            "tags": [],
            "needs_background": "light"
          }
        },
        {
          "output_type": "stream",
          "text": [
            "19\n"
          ],
          "name": "stdout"
        }
      ]
    },
    {
      "cell_type": "code",
      "metadata": {
        "id": "RxXOTmQ0vUUO",
        "outputId": "350a584e-f1e1-4d56-8a95-ad1cbcabf1de",
        "colab": {
          "base_uri": "https://localhost:8080/",
          "height": 265
        }
      },
      "source": [
        "Punto4= {'x':8,'y':6}\n",
        "Datos4 = Datos4.append(Punto4, ignore_index=True);\n",
        "X = Datos4.iloc[:, 0].values.reshape(-1, 1) \n",
        "Y = Datos4.iloc[:, 1].values.reshape(-1, 1) \n",
        "linear_regressor = LinearRegression()\n",
        "linear_regressor.fit(X, Y)\n",
        "Y_pred = linear_regressor.predict(X)\n",
        "plt.scatter(X, Y)\n",
        "plt.plot(X, Y_pred, color='red')\n",
        "plt.show()"
      ],
      "execution_count": 65,
      "outputs": [
        {
          "output_type": "display_data",
          "data": {
            "image/png": "[encoded data removed]",
            "text/plain": [
              "<Figure size 432x288 with 1 Axes>"
            ]
          },
          "metadata": {
            "tags": [],
            "needs_background": "light"
          }
        }
      ]
    }
  ]
}