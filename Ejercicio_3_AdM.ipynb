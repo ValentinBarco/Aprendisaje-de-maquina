{
  "nbformat": 4,
  "nbformat_minor": 0,
  "metadata": {
    "colab": {
      "name": "Ejercicio 3 AdM",
      "provenance": [],
      "authorship_tag": "ABX9TyPgUcW0C2J2QfpMwf47AeR6",
      "include_colab_link": true
    },
    "kernelspec": {
      "name": "python3",
      "display_name": "Python 3"
    }
  },
  "cells": [
    {
      "cell_type": "markdown",
      "metadata": {
        "id": "view-in-github",
        "colab_type": "text"
      },
      "source": [
        "<a href=\"https://colab.research.google.com/github/ValentinBarco/Aprendizaje-de-maquina/blob/master/Ejercicio_3_AdM.ipynb\" target=\"_parent\"><img src=\"https://colab.research.google.com/assets/colab-badge.svg\" alt=\"Open In Colab\"/></a>"
      ]
    },
    {
      "cell_type": "code",
      "metadata": {
        "id": "DVJO1cD8D5d3"
      },
      "source": [
        "import pandas as pd\n",
        "import matplotlib.pyplot as plt\n",
        "import numpy as np\n"
      ],
      "execution_count": null,
      "outputs": []
    },
    {
      "cell_type": "markdown",
      "metadata": {
        "id": "rurU9CtOLY09"
      },
      "source": [
        "#Creacion del dataset y visualizacion del mismo"
      ]
    },
    {
      "cell_type": "code",
      "metadata": {
        "id": "oysjv-7mEKp5",
        "outputId": "7b41b9a7-31dd-4580-83f4-813d172cb9dd",
        "colab": {
          "base_uri": "https://localhost:8080/",
          "height": 281
        }
      },
      "source": [
        "mediaX1 = 50\n",
        "mediaY1 = 20\n",
        "muestras = 50\n",
        "desvioX1 = 20\n",
        "desvioY1 = 25\n",
        "mediaX2 = 20\n",
        "mediaY2 = 60\n",
        "muestras = 50\n",
        "desvioX2 = 25\n",
        "desvioY2 = 20\n",
        "\n",
        "X1 = pd.Series(np.random.normal(loc= mediaX1, scale=desvioX1, size=muestras));\n",
        "Y1 = pd.Series(np.random.normal(loc= mediaY1, scale=desvioY1, size=muestras));\n",
        "\n",
        "Data1 = pd.DataFrame({'color':'r','target':'A','x':X1,'y':Y1});\n",
        "\n",
        "X2 = pd.Series(np.random.normal(loc= mediaX2, scale=desvioX2, size=muestras));\n",
        "Y2 = pd.Series(np.random.normal(loc= mediaY2, scale=desvioY2, size=muestras));\n",
        "\n",
        "Data2 = pd.DataFrame({'color':'b','target':'B','x':X2,'y':Y2});\n",
        "\n",
        "Dataset = pd.concat([Data1,Data2,],ignore_index= True,axis=0)\n",
        "\n",
        "plt.scatter(Dataset['x'],Dataset['y'], c= Dataset['color'])\n",
        "\n"
      ],
      "execution_count": null,
      "outputs": [
        {
          "output_type": "execute_result",
          "data": {
            "text/plain": [
              "<matplotlib.collections.PathCollection at 0x7f9d14767f60>"
            ]
          },
          "metadata": {
            "tags": []
          },
          "execution_count": 8
        },
        {
          "output_type": "display_data",
          "data": {
            "image/png": "[encoded data removed]",
            "text/plain": [
              "<Figure size 432x288 with 1 Axes>"
            ]
          },
          "metadata": {
            "tags": [],
            "needs_background": "light"
          }
        }
      ]
    },
    {
      "cell_type": "markdown",
      "metadata": {
        "id": "Wj31jrC_L3yW"
      },
      "source": [
        "#Implementacion de K-Vecinos mas cercanos\n"
      ]
    },
    {
      "cell_type": "code",
      "metadata": {
        "id": "PYNfwLW4PEQx",
        "outputId": "ce0f04f0-3510-464d-ae7a-1717b1c832ca",
        "colab": {
          "base_uri": "https://localhost:8080/",
          "height": 67
        }
      },
      "source": [
        "from sklearn import neighbors\n",
        "from sklearn.metrics import classification_report\n",
        "from sklearn.metrics import confusion_matrix\n",
        "from sklearn import metrics\n",
        "from sklearn.model_selection import train_test_split\n",
        "\n",
        "X_train, X_test, y_train, y_test = train_test_split(Dataset[['x','y']], Dataset['target'], test_size=0.8, random_state=0)\n",
        "\n",
        "Kvecinos = neighbors.KNeighborsClassifier(n_neighbors=3)\n",
        "Kvecinos.fit(X_train, y_train)\n",
        "\n",
        "\n",
        "\n"
      ],
      "execution_count": null,
      "outputs": [
        {
          "output_type": "execute_result",
          "data": {
            "text/plain": [
              "KNeighborsClassifier(algorithm='auto', leaf_size=30, metric='minkowski',\n",
              "                     metric_params=None, n_jobs=None, n_neighbors=3, p=2,\n",
              "                     weights='uniform')"
            ]
          },
          "metadata": {
            "tags": []
          },
          "execution_count": 9
        }
      ]
    },
    {
      "cell_type": "markdown",
      "metadata": {
        "id": "skXIz_xrMCHi"
      },
      "source": [
        "#Matriz de confusion"
      ]
    },
    {
      "cell_type": "code",
      "metadata": {
        "id": "F7-xFaEmMBAV",
        "outputId": "62c44539-d4ea-4bd4-9c9a-d699fa1d0cb5",
        "colab": {
          "base_uri": "https://localhost:8080/",
          "height": 325
        }
      },
      "source": [
        "disp = metrics.plot_confusion_matrix(Kvecinos, X_test, y_test)\n",
        "disp.figure_.suptitle(\"Confusion Matrix\")\n"
      ],
      "execution_count": null,
      "outputs": [
        {
          "output_type": "execute_result",
          "data": {
            "text/plain": [
              "Text(0.5, 0.98, 'Confusion Matrix')"
            ]
          },
          "metadata": {
            "tags": []
          },
          "execution_count": 5
        },
        {
          "output_type": "display_data",
          "data": {
            "image/png": "[encoded data removed]",
            "text/plain": [
              "<Figure size 432x288 with 2 Axes>"
            ]
          },
          "metadata": {
            "tags": [],
            "needs_background": "light"
          }
        }
      ]
    },
    {
      "cell_type": "markdown",
      "metadata": {
        "id": "0kIfhVJxMVoU"
      },
      "source": [
        "#Ejercicio 3.2: \n",
        "\n",
        "#Validacion cruzada"
      ]
    },
    {
      "cell_type": "code",
      "metadata": {
        "id": "sJgBZR67_-cr",
        "outputId": "9bfabd51-f917-4d4c-e410-aabf7c37c1eb",
        "colab": {
          "base_uri": "https://localhost:8080/",
          "height": 1000
        }
      },
      "source": [
        "import numpy as np\n",
        "from sklearn.model_selection import KFold\n",
        "X = Dataset[['x','y']].values\n",
        "y = Dataset['target']\n",
        "kf = KFold(n_splits=5)\n",
        "kf.get_n_splits(X)\n",
        "\n",
        "\n",
        "for train_index, test_index in kf.split(X):\n",
        "  #print(\"TRAIN:\", train_index, \"TEST:\", test_index)\n",
        "\n",
        "  X_train, X_test = X[train_index], X[test_index]\n",
        "  y_train, y_test = y[train_index], y[test_index]\n",
        "\n",
        "  Kvecinos = neighbors.KNeighborsClassifier(n_neighbors=3)\n",
        "  Kvecinos.fit(X_train, y_train)\n",
        "  disp = metrics.plot_confusion_matrix(Kvecinos, X_test, y_test)\n",
        "  disp.figure_.suptitle(\"Confusion Matrix\")\n",
        "  \n",
        "\n",
        "\n"
      ],
      "execution_count": null,
      "outputs": [
        {
          "output_type": "display_data",
          "data": {
            "image/png": "[encoded data removed]",
            "text/plain": [
              "<Figure size 432x288 with 2 Axes>"
            ]
          },
          "metadata": {
            "tags": [],
            "needs_background": "light"
          }
        },
        {
          "output_type": "display_data",
          "data": {
            "image/png": "[encoded data removed]",
            "text/plain": [
              "<Figure size 432x288 with 2 Axes>"
            ]
          },
          "metadata": {
            "tags": [],
            "needs_background": "light"
          }
        },
        {
          "output_type": "display_data",
          "data": {
            "image/png": "[encoded data removed]",
            "text/plain": [
              "<Figure size 432x288 with 2 Axes>"
            ]
          },
          "metadata": {
            "tags": [],
            "needs_background": "light"
          }
        },
        {
          "output_type": "display_data",
          "data": {
            "image/png": "[encoded data removed]",
            "text/plain": [
              "<Figure size 432x288 with 2 Axes>"
            ]
          },
          "metadata": {
            "tags": [],
            "needs_background": "light"
          }
        },
        {
          "output_type": "display_data",
          "data": {
            "image/png": "[encoded data removed]",
            "text/plain": [
              "<Figure size 432x288 with 2 Axes>"
            ]
          },
          "metadata": {
            "tags": [],
            "needs_background": "light"
          }
        }
      ]
    },
    {
      "cell_type": "markdown",
      "metadata": {
        "id": "PSd9i19XMjoA"
      },
      "source": [
        "#Intento de coloreo de zonas"
      ]
    },
    {
      "cell_type": "code",
      "metadata": {
        "id": "F3yfiqraMfuR"
      },
      "source": [
        "from matplotlib.colors import ListedColormap\n",
        "from sklearn import neighbors, datasets\n",
        "\n",
        "\n",
        "X = Dataset[['x','y']].values\n",
        "y = Dataset['target']\n",
        "\n",
        "h = .02 \n",
        "\n",
        "cmap_light = ListedColormap(['orange', 'cyan' ])\n",
        "cmap_bold = ListedColormap(['darkorange', 'c' ])\n",
        "\n",
        "\n",
        "clf = neighbors.KNeighborsClassifier(n_neighbors=3)\n",
        "clf.fit(X, y)\n",
        "\n",
        "\n",
        "x_min, x_max = X[:, 0].min() - 1, X[:, 0].max() + 1\n",
        "y_min, y_max = X[:, 1].min() - 1, X[:, 1].max() + 1\n",
        "\n",
        "xx, yy = np.meshgrid(np.arange(x_min, x_max, h), np.arange(y_min, y_max, h))\n",
        "Z = clf.predict(np.c_[xx.ravel(), yy.ravel()])\n",
        "\n",
        "\n",
        "Z = Z.reshape(xx.shape)\n",
        "plt.figure()\n",
        "plt.pcolormesh(xx, yy, Z, cmap=cmap_light)\n",
        "\n",
        "\n",
        "plt.scatter(X[:, 0], X[:, 1], c=y, cmap=cmap_bold, edgecolor='k', s=20)\n",
        "plt.xlim(xx.min(), xx.max())\n",
        "plt.ylim(yy.min(), yy.max())\n",
        "\n",
        "plt.show()"
      ],
      "execution_count": null,
      "outputs": []
    },
    {
      "cell_type": "markdown",
      "metadata": {
        "id": "yc8mgitPB24W"
      },
      "source": [
        "#Ejercicio 3.3\n",
        "\n"
      ]
    },
    {
      "cell_type": "code",
      "metadata": {
        "id": "UemkRUFyDPdF",
        "outputId": "2bff34bd-065b-4961-a624-52f09ccfc405",
        "colab": {
          "base_uri": "https://localhost:8080/",
          "height": 658
        }
      },
      "source": [
        "Canciones= pd.read_csv(\"https://raw.githubusercontent.com/emmanueliarussi/DataScienceCapstone/master/3_MidtermProjects/ProjectBOM/data/attributes_spotify.csv\")\n",
        "\n",
        "Canciones"
      ],
      "execution_count": null,
      "outputs": [
        {
          "output_type": "execute_result",
          "data": {
            "text/html": [
              "<div>\n",
              "<style scoped>\n",
              "    .dataframe tbody tr th:only-of-type {\n",
              "        vertical-align: middle;\n",
              "    }\n",
              "\n",
              "    .dataframe tbody tr th {\n",
              "        vertical-align: top;\n",
              "    }\n",
              "\n",
              "    .dataframe thead th {\n",
              "        text-align: right;\n",
              "    }\n",
              "</style>\n",
              "<table border=\"1\" class=\"dataframe\">\n",
              "  <thead>\n",
              "    <tr style=\"text-align: right;\">\n",
              "      <th></th>\n",
              "      <th>Unnamed: 0</th>\n",
              "      <th>acousticness</th>\n",
              "      <th>danceability</th>\n",
              "      <th>duration_ms</th>\n",
              "      <th>energy</th>\n",
              "      <th>instrumentalness</th>\n",
              "      <th>key</th>\n",
              "      <th>liveness</th>\n",
              "      <th>loudness</th>\n",
              "      <th>mode</th>\n",
              "      <th>speechiness</th>\n",
              "      <th>tempo</th>\n",
              "      <th>time_signature</th>\n",
              "      <th>valence</th>\n",
              "      <th>target</th>\n",
              "      <th>song_title</th>\n",
              "      <th>artist</th>\n",
              "    </tr>\n",
              "  </thead>\n",
              "  <tbody>\n",
              "    <tr>\n",
              "      <th>0</th>\n",
              "      <td>0</td>\n",
              "      <td>0.01020</td>\n",
              "      <td>0.833</td>\n",
              "      <td>204600</td>\n",
              "      <td>0.434</td>\n",
              "      <td>0.021900</td>\n",
              "      <td>2</td>\n",
              "      <td>0.1650</td>\n",
              "      <td>-8.795</td>\n",
              "      <td>1</td>\n",
              "      <td>0.4310</td>\n",
              "      <td>150.062</td>\n",
              "      <td>4.0</td>\n",
              "      <td>0.286</td>\n",
              "      <td>1</td>\n",
              "      <td>Mask Off</td>\n",
              "      <td>Future</td>\n",
              "    </tr>\n",
              "    <tr>\n",
              "      <th>1</th>\n",
              "      <td>1</td>\n",
              "      <td>0.19900</td>\n",
              "      <td>0.743</td>\n",
              "      <td>326933</td>\n",
              "      <td>0.359</td>\n",
              "      <td>0.006110</td>\n",
              "      <td>1</td>\n",
              "      <td>0.1370</td>\n",
              "      <td>-10.401</td>\n",
              "      <td>1</td>\n",
              "      <td>0.0794</td>\n",
              "      <td>160.083</td>\n",
              "      <td>4.0</td>\n",
              "      <td>0.588</td>\n",
              "      <td>1</td>\n",
              "      <td>Redbone</td>\n",
              "      <td>Childish Gambino</td>\n",
              "    </tr>\n",
              "    <tr>\n",
              "      <th>2</th>\n",
              "      <td>2</td>\n",
              "      <td>0.03440</td>\n",
              "      <td>0.838</td>\n",
              "      <td>185707</td>\n",
              "      <td>0.412</td>\n",
              "      <td>0.000234</td>\n",
              "      <td>2</td>\n",
              "      <td>0.1590</td>\n",
              "      <td>-7.148</td>\n",
              "      <td>1</td>\n",
              "      <td>0.2890</td>\n",
              "      <td>75.044</td>\n",
              "      <td>4.0</td>\n",
              "      <td>0.173</td>\n",
              "      <td>1</td>\n",
              "      <td>Xanny Family</td>\n",
              "      <td>Future</td>\n",
              "    </tr>\n",
              "    <tr>\n",
              "      <th>3</th>\n",
              "      <td>3</td>\n",
              "      <td>0.60400</td>\n",
              "      <td>0.494</td>\n",
              "      <td>199413</td>\n",
              "      <td>0.338</td>\n",
              "      <td>0.510000</td>\n",
              "      <td>5</td>\n",
              "      <td>0.0922</td>\n",
              "      <td>-15.236</td>\n",
              "      <td>1</td>\n",
              "      <td>0.0261</td>\n",
              "      <td>86.468</td>\n",
              "      <td>4.0</td>\n",
              "      <td>0.230</td>\n",
              "      <td>1</td>\n",
              "      <td>Master Of None</td>\n",
              "      <td>Beach House</td>\n",
              "    </tr>\n",
              "    <tr>\n",
              "      <th>4</th>\n",
              "      <td>4</td>\n",
              "      <td>0.18000</td>\n",
              "      <td>0.678</td>\n",
              "      <td>392893</td>\n",
              "      <td>0.561</td>\n",
              "      <td>0.512000</td>\n",
              "      <td>5</td>\n",
              "      <td>0.4390</td>\n",
              "      <td>-11.648</td>\n",
              "      <td>0</td>\n",
              "      <td>0.0694</td>\n",
              "      <td>174.004</td>\n",
              "      <td>4.0</td>\n",
              "      <td>0.904</td>\n",
              "      <td>1</td>\n",
              "      <td>Parallel Lines</td>\n",
              "      <td>Junior Boys</td>\n",
              "    </tr>\n",
              "    <tr>\n",
              "      <th>...</th>\n",
              "      <td>...</td>\n",
              "      <td>...</td>\n",
              "      <td>...</td>\n",
              "      <td>...</td>\n",
              "      <td>...</td>\n",
              "      <td>...</td>\n",
              "      <td>...</td>\n",
              "      <td>...</td>\n",
              "      <td>...</td>\n",
              "      <td>...</td>\n",
              "      <td>...</td>\n",
              "      <td>...</td>\n",
              "      <td>...</td>\n",
              "      <td>...</td>\n",
              "      <td>...</td>\n",
              "      <td>...</td>\n",
              "      <td>...</td>\n",
              "    </tr>\n",
              "    <tr>\n",
              "      <th>2012</th>\n",
              "      <td>2012</td>\n",
              "      <td>0.00106</td>\n",
              "      <td>0.584</td>\n",
              "      <td>274404</td>\n",
              "      <td>0.932</td>\n",
              "      <td>0.002690</td>\n",
              "      <td>1</td>\n",
              "      <td>0.1290</td>\n",
              "      <td>-3.501</td>\n",
              "      <td>1</td>\n",
              "      <td>0.3330</td>\n",
              "      <td>74.976</td>\n",
              "      <td>4.0</td>\n",
              "      <td>0.211</td>\n",
              "      <td>0</td>\n",
              "      <td>Like A Bitch - Kill The Noise Remix</td>\n",
              "      <td>Kill The Noise</td>\n",
              "    </tr>\n",
              "    <tr>\n",
              "      <th>2013</th>\n",
              "      <td>2013</td>\n",
              "      <td>0.08770</td>\n",
              "      <td>0.894</td>\n",
              "      <td>182182</td>\n",
              "      <td>0.892</td>\n",
              "      <td>0.001670</td>\n",
              "      <td>1</td>\n",
              "      <td>0.0528</td>\n",
              "      <td>-2.663</td>\n",
              "      <td>1</td>\n",
              "      <td>0.1310</td>\n",
              "      <td>110.041</td>\n",
              "      <td>4.0</td>\n",
              "      <td>0.867</td>\n",
              "      <td>0</td>\n",
              "      <td>Candy</td>\n",
              "      <td>Dillon Francis</td>\n",
              "    </tr>\n",
              "    <tr>\n",
              "      <th>2014</th>\n",
              "      <td>2014</td>\n",
              "      <td>0.00857</td>\n",
              "      <td>0.637</td>\n",
              "      <td>207200</td>\n",
              "      <td>0.935</td>\n",
              "      <td>0.003990</td>\n",
              "      <td>0</td>\n",
              "      <td>0.2140</td>\n",
              "      <td>-2.467</td>\n",
              "      <td>1</td>\n",
              "      <td>0.1070</td>\n",
              "      <td>150.082</td>\n",
              "      <td>4.0</td>\n",
              "      <td>0.470</td>\n",
              "      <td>0</td>\n",
              "      <td>Habit - Dack Janiels &amp; Wenzday Remix</td>\n",
              "      <td>Rain Man</td>\n",
              "    </tr>\n",
              "    <tr>\n",
              "      <th>2015</th>\n",
              "      <td>2015</td>\n",
              "      <td>0.00164</td>\n",
              "      <td>0.557</td>\n",
              "      <td>185600</td>\n",
              "      <td>0.992</td>\n",
              "      <td>0.677000</td>\n",
              "      <td>1</td>\n",
              "      <td>0.0913</td>\n",
              "      <td>-2.735</td>\n",
              "      <td>1</td>\n",
              "      <td>0.1330</td>\n",
              "      <td>150.011</td>\n",
              "      <td>4.0</td>\n",
              "      <td>0.623</td>\n",
              "      <td>0</td>\n",
              "      <td>First Contact</td>\n",
              "      <td>Twin Moons</td>\n",
              "    </tr>\n",
              "    <tr>\n",
              "      <th>2016</th>\n",
              "      <td>2016</td>\n",
              "      <td>0.00281</td>\n",
              "      <td>0.446</td>\n",
              "      <td>204520</td>\n",
              "      <td>0.915</td>\n",
              "      <td>0.000039</td>\n",
              "      <td>9</td>\n",
              "      <td>0.2180</td>\n",
              "      <td>-6.221</td>\n",
              "      <td>1</td>\n",
              "      <td>0.1410</td>\n",
              "      <td>190.013</td>\n",
              "      <td>4.0</td>\n",
              "      <td>0.402</td>\n",
              "      <td>0</td>\n",
              "      <td>I Wanna Get Better</td>\n",
              "      <td>Bleachers</td>\n",
              "    </tr>\n",
              "  </tbody>\n",
              "</table>\n",
              "<p>2017 rows × 17 columns</p>\n",
              "</div>"
            ],
            "text/plain": [
              "      Unnamed: 0  ...            artist\n",
              "0              0  ...            Future\n",
              "1              1  ...  Childish Gambino\n",
              "2              2  ...            Future\n",
              "3              3  ...       Beach House\n",
              "4              4  ...       Junior Boys\n",
              "...          ...  ...               ...\n",
              "2012        2012  ...    Kill The Noise\n",
              "2013        2013  ...    Dillon Francis\n",
              "2014        2014  ...          Rain Man\n",
              "2015        2015  ...        Twin Moons\n",
              "2016        2016  ...         Bleachers\n",
              "\n",
              "[2017 rows x 17 columns]"
            ]
          },
          "metadata": {
            "tags": []
          },
          "execution_count": 3
        }
      ]
    },
    {
      "cell_type": "code",
      "metadata": {
        "id": "tkKqA7C5FokJ",
        "outputId": "6a21882f-23f8-4450-d8c5-d5b2dc37729d",
        "colab": {
          "base_uri": "https://localhost:8080/",
          "height": 325
        }
      },
      "source": [
        "DatosSpotify = pd.DataFrame(Canciones)\n",
        "\n",
        "X_train, X_test, y_train, y_test = train_test_split(DatosSpotify[\n",
        "['danceability','energy','instrumentalness']], Canciones['target'], test_size=0.8, random_state=0)\n",
        "\n",
        "CancionPred = neighbors.KNeighborsClassifier(n_neighbors=23)\n",
        "CancionPred.fit(X_train, y_train)\n",
        "\n",
        "disp = metrics.plot_confusion_matrix(CancionPred, X_test, y_test)\n",
        "disp.figure_.suptitle(\"Confusion Matrix\")\n",
        "y_pred = CancionPred.predict(X_test)\n",
        "print(\"F-measure knn Spotify=\",metrics.f1_score(y_test, y_pred))"
      ],
      "execution_count": null,
      "outputs": [
        {
          "output_type": "stream",
          "text": [
            "F-measure knn Spotify= 0.625077208153181\n"
          ],
          "name": "stdout"
        },
        {
          "output_type": "display_data",
          "data": {
            "image/png": "[encoded data removed]",
            "text/plain": [
              "<Figure size 432x288 with 2 Axes>"
            ]
          },
          "metadata": {
            "tags": [],
            "needs_background": "light"
          }
        }
      ]
    }
  ]
}